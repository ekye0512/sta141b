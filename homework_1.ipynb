{
 "cells": [
  {
   "cell_type": "markdown",
   "metadata": {
    "tags": [
     "header"
    ]
   },
   "source": [
    "# STA 141B Assignment 1\n",
    "\n",
    "Due __January 26, 2024__ by __11:59pm__. Submit your work by uploading it to Gradescope through Canvas.\n",
    "\n",
    "Instructions:\n",
    "\n",
    "1. Provide your solutions in new cells following each exercise description. Create as many new cells as necessary. Use code cells for your Python scripts and Markdown cells for explanatory text or answers to non-coding questions. Answer all textual questions in complete sentences.\n",
    "2. The use of assistive tools is permitted, but must be indicated. You will be graded on you proficiency in coding. Produce high quality code by adhering to proper programming principles. \n",
    "3. Export the .jpynb as .pdf and submit it on Gradescope in time. To facilitate grading, indicate the area of the solution on the submission. Submissions without indication will be marked down. No late submissions accepted. \n",
    "4. The total number of points is 10. "
   ]
  },
  {
   "cell_type": "markdown",
   "metadata": {
    "tags": [
     "exercise"
    ]
   },
   "source": [
    "__Exercise 1__\n",
    "\n",
    "This exercise will review basic concepts of programming. Only use pure python code and no methods (like `str.find`) that are optimized in, e.g., `C`. Likewise, do not use any packages except those suitable for parallelization in part (c). \n",
    "\n",
    "\n",
    "\n",
    "__(a)__ Write a recursive function `seq_count(x, ...)` that returns length of the longest subsequence of identical elements in the sequence object `x`. Run: \n",
    "```\n",
    "seq_count([[1], [1], [1], 1, 3, 3, 2, 2, 4, 0])\n",
    "seq_count(('G', 'g', 'a', \"a\", \"a\", '''a''', 2, 's', 's'))\n",
    "seq_count([3, 1, int(True), 1, 1, 1, 3, 3])\n",
    "seq_count((1, 3, None, 3, 3, 1, 3, 3, 4, 0))\n",
    "```"
   ]
  },
  {
   "cell_type": "code",
   "execution_count": 1,
   "metadata": {},
   "outputs": [],
   "source": [
    "def seq_count(x, index=0, count=0,longest_count=0):\n",
    "    if index==len(x):\n",
    "        return max(count, longest_count)\n",
    "    elif x[index-1] is x[index]:\n",
    "        return seq_count(x, index+1, count+1, longest_count)\n",
    "    else:\n",
    "        return seq_count(x, index+1, 1, max(count, longest_count))\n",
    "    \n",
    "\n"
   ]
  },
  {
   "cell_type": "code",
   "execution_count": 2,
   "metadata": {},
   "outputs": [
    {
     "data": {
      "text/plain": [
       "2"
      ]
     },
     "execution_count": 2,
     "metadata": {},
     "output_type": "execute_result"
    }
   ],
   "source": [
    "seq_count([[1], [1], [1], 1, 3, 3, 2, 2, 4, 0])\n"
   ]
  },
  {
   "cell_type": "code",
   "execution_count": 3,
   "metadata": {},
   "outputs": [
    {
     "data": {
      "text/plain": [
       "4"
      ]
     },
     "execution_count": 3,
     "metadata": {},
     "output_type": "execute_result"
    }
   ],
   "source": [
    "seq_count(('G', 'g', 'a', \"a\", \"a\", '''a''', 2, 's', 's'))\n"
   ]
  },
  {
   "cell_type": "code",
   "execution_count": 4,
   "metadata": {},
   "outputs": [
    {
     "data": {
      "text/plain": [
       "5"
      ]
     },
     "execution_count": 4,
     "metadata": {},
     "output_type": "execute_result"
    }
   ],
   "source": [
    "seq_count([3, 1, int(True), 1, 1, 1, 3, 3])\n"
   ]
  },
  {
   "cell_type": "code",
   "execution_count": 5,
   "metadata": {},
   "outputs": [
    {
     "data": {
      "text/plain": [
       "2"
      ]
     },
     "execution_count": 5,
     "metadata": {},
     "output_type": "execute_result"
    }
   ],
   "source": [
    "seq_count((1, 3, None, 3, 3, 1, 3, 3, 4, 0))"
   ]
  },
  {
   "cell_type": "code",
   "execution_count": 6,
   "metadata": {
    "tags": [
     "test"
    ]
   },
   "outputs": [
    {
     "data": {
      "text/plain": [
       "3"
      ]
     },
     "execution_count": 6,
     "metadata": {},
     "output_type": "execute_result"
    }
   ],
   "source": [
    "seq_count([1, 3, 1, 1, 3, 3, 4, 4, 4])"
   ]
  },
  {
   "cell_type": "code",
   "execution_count": 7,
   "metadata": {
    "tags": [
     "test"
    ]
   },
   "outputs": [
    {
     "data": {
      "text/plain": [
       "3"
      ]
     },
     "execution_count": 7,
     "metadata": {},
     "output_type": "execute_result"
    }
   ],
   "source": [
    "seq_count((1, 3, 1, 1, 1, '1', 1, [3, 3, 3, 3], 3, 4, 0))"
   ]
  },
  {
   "cell_type": "markdown",
   "metadata": {
    "tags": [
     "exercise"
    ]
   },
   "source": [
    "__(b)__ Write a function `pattern_count(x, pattern, ...)` that takes the two iterable objects `x` and `pattern` and returns the length of the longest subsequence of `pattern`. Run: \n",
    "```\n",
    "pattern_count('CGGACTACTAGACT', 'ACT')\n",
    "pattern_count((1, (1, 1, 1, 1), 2, 1, 1, 1), [1, 1])\n",
    "pattern_count(['ab', 'ab', 'a', 'a', 'b'], ('ab',))\n",
    "```"
   ]
  },
  {
   "cell_type": "code",
   "execution_count": 8,
   "metadata": {},
   "outputs": [],
   "source": [
    "def pattern_count(x, pattern):\n",
    "    pattern = tuple(pattern)\n",
    "    max_count = 0\n",
    "    # stores the max count of consecutive patterns\n",
    "    count = 0\n",
    "    # current count of the pattern\n",
    "    i = 0\n",
    "    # index\n",
    "\n",
    "    while i <= len(x) - len(pattern):\n",
    "        # goes through the lust\n",
    "        if tuple(x[i:i+len(pattern)]) == pattern:\n",
    "            # checks if  slice matches the pattern\n",
    "            count += 1\n",
    "            # increament count for  match\n",
    "            i += len(pattern)\n",
    "            # advances the index by the patterns length\n",
    "        else:\n",
    "            max_count = max(max_count, count)\n",
    "            # update max_count if neccessary\n",
    "            count = 0\n",
    "            # reset the current count\n",
    "            i += 1\n",
    "            # move to the next element\n",
    "\n",
    "    max_count = max(max_count, count)\n",
    "    # final check for the last counted sequence\n",
    "\n",
    "    return max_count\n",
    "    # return the longest consecutive pattern sequence\n"
   ]
  },
  {
   "cell_type": "code",
   "execution_count": 9,
   "metadata": {},
   "outputs": [
    {
     "data": {
      "text/plain": [
       "2"
      ]
     },
     "execution_count": 9,
     "metadata": {},
     "output_type": "execute_result"
    }
   ],
   "source": [
    "pattern_count('CGGACTACTAGACT', 'ACT')"
   ]
  },
  {
   "cell_type": "code",
   "execution_count": 10,
   "metadata": {},
   "outputs": [
    {
     "data": {
      "text/plain": [
       "1"
      ]
     },
     "execution_count": 10,
     "metadata": {},
     "output_type": "execute_result"
    }
   ],
   "source": [
    "pattern_count((1, (1, 1, 1, 1), 2, 1, 1, 1), [1, 1])"
   ]
  },
  {
   "cell_type": "code",
   "execution_count": 11,
   "metadata": {},
   "outputs": [
    {
     "data": {
      "text/plain": [
       "2"
      ]
     },
     "execution_count": 11,
     "metadata": {},
     "output_type": "execute_result"
    }
   ],
   "source": [
    "pattern_count(['ab', 'ab', 'a', 'a', 'b'], ('ab',))"
   ]
  },
  {
   "cell_type": "code",
   "execution_count": 12,
   "metadata": {
    "tags": [
     "test"
    ]
   },
   "outputs": [
    {
     "data": {
      "text/plain": [
       "3"
      ]
     },
     "execution_count": 12,
     "metadata": {},
     "output_type": "execute_result"
    }
   ],
   "source": [
    "pattern_count([0, 1, 2, 1, 2, 3, 1, 2, 1, 2, 1, 2, 4, 1, 2], (1, 2))\n",
    "#3"
   ]
  },
  {
   "cell_type": "code",
   "execution_count": 13,
   "metadata": {
    "tags": [
     "test"
    ]
   },
   "outputs": [
    {
     "data": {
      "text/plain": [
       "0"
      ]
     },
     "execution_count": 13,
     "metadata": {},
     "output_type": "execute_result"
    }
   ],
   "source": [
    "pattern_count([], [2])\n",
    "#0"
   ]
  },
  {
   "cell_type": "code",
   "execution_count": 14,
   "metadata": {
    "tags": [
     "test"
    ]
   },
   "outputs": [
    {
     "data": {
      "text/plain": [
       "1"
      ]
     },
     "execution_count": 14,
     "metadata": {},
     "output_type": "execute_result"
    }
   ],
   "source": [
    "pattern_count(['ab', 'ab', 'a', 'a', 'b'], 'ab') # elements in pattern must be identical to elements in x! \n",
    "#1"
   ]
  },
  {
   "cell_type": "markdown",
   "metadata": {
    "tags": [
     "exercise"
    ]
   },
   "source": [
    "__(c)__ For a long string, write code that takes strings `x`, `pattern`, and an integer `n_splits`, and uses a suitable concurrency method to search for repeating patterns using `pattern_count` from (b). \n",
    "To this end, partition `x` into `n_splits` parts and search each of them individually. Make sure not to split where a pattern is present! Run: \n",
    "```\n",
    "from random import choices, seed\n",
    "\n",
    "seed(2024)\n",
    "x = \"\".join(choices('01', k = 5_000))\n",
    "pattern = \"01\"\n",
    "n_splits = 50\n",
    "\n",
    "# here is your code \n",
    "```\n",
    "\n",
    "_Hint: You can use the fast `x.find(pattern)` to check your code._"
   ]
  },
  {
   "cell_type": "code",
   "execution_count": 15,
   "metadata": {},
   "outputs": [
    {
     "data": {
      "text/plain": [
       "7"
      ]
     },
     "execution_count": 15,
     "metadata": {},
     "output_type": "execute_result"
    }
   ],
   "source": [
    "from random import choices, seed\n",
    "import concurrent.futures\n",
    "\n",
    "seed(2024)\n",
    "x = \"\".join(choices('01', k = 5_000))\n",
    "pattern = \"01\"\n",
    "n_splits = 50\n",
    "\n",
    "def search_patterns_concurrently(x, pattern, n_splits):\n",
    "    partitions = []\n",
    "\n",
    "    split_index = []\n",
    "    for split in range(0, len(x), len(x)//n_splits):\n",
    "        split_index.append(split)\n",
    "\n",
    "    for check in range(1, len(split_index)):\n",
    "        case = 0\n",
    "        while case < len(pattern):\n",
    "            if x[split_index[check]+case-len(pattern):split_index[check]+case] != pattern:\n",
    "                case +=1\n",
    "            else:\n",
    "                case=0\n",
    "                split_index[check] += len(pattern)\n",
    "\n",
    "    index=0\n",
    "    while index < len(split_index)-1:\n",
    "        partitions.append(x[split_index[index]:split_index[index+1]])\n",
    "        index+=1\n",
    "    partitions.append(x[split_index[-1]:])\n",
    "\n",
    "    with concurrent.futures.ThreadPoolExecutor() as executor:\n",
    "\n",
    "        futures = [executor.submit(pattern_count, part, pattern) for part in partitions]\n",
    "\n",
    "        concurrent.futures.wait(futures)\n",
    "\n",
    "        results = [future.result() for future in futures]\n",
    "\n",
    "    return max(results)\n",
    "\n",
    "search_patterns_concurrently(x, pattern, n_splits)"
   ]
  },
  {
   "cell_type": "code",
   "execution_count": 16,
   "metadata": {},
   "outputs": [
    {
     "data": {
      "text/plain": [
       "0"
      ]
     },
     "execution_count": 16,
     "metadata": {},
     "output_type": "execute_result"
    }
   ],
   "source": [
    "x.find(pattern)"
   ]
  },
  {
   "cell_type": "markdown",
   "metadata": {
    "tags": [
     "exercise"
    ]
   },
   "source": [
    "__Exercise 2__\n",
    "\n",
    "In this exercise, we will generate (pseudo-)random numbers using the inversion and accept-reject method. In order to generate the random numbers you are only allowed draw from the Uniform distribution and use\n",
    "```\n",
    "from random import uniform\n",
    "from scipy.special import binom\n",
    "from numpy import sqrt, pi, exp, tan, cumsum\n",
    "from scipy.stats import probplot\n",
    "import pandas as pd\n",
    "import matplotlib.pyplot as plt\n",
    "```\n",
    "\n",
    "_Inversion method: Let $F$ be a distribution function from which we want to draw. Define the quantile function $F^{-1}(u) = \\inf\\{x\\colon F(x)\\geq u, 0\\leq u\\leq 1\\}$. Then, if $U\\sim Unif[0,1]$, $F^{-1}(U)$ has distribution function $F$._\n",
    "\n",
    "_Accept-reject: Let $f$ be a density function from which we want to draw and there exists a density $g$ from which we can draw (e.g., via the inversion method) and for which there exists a constant $c$ such that $f(x)\\leq cg(x)$ for all $x$. The following algorithm generates a random variable $X$ with density function $f$._\n",
    "\n",
    "1. Generate a random variable $X$ from density $g$\n",
    "2. Generate a random variable $U\\sim Unif[0,1]$ (independent from $X$)\n",
    "3. If $Ucg(X) \\leq f(X)$, return $X$, otherwise repeat 1.-3.\n",
    "\n",
    "_The number of iterations needed to successfully generate $X$ is itself a random variable,\n",
    "which is geometrically distributed with the success (acceptance) probability $p = P(Ucg(X)\\leq f(X))$. Hence, the expected number of iterations is $1/p$. Some calculations show that $p = 1/c$._\n",
    "\n",
    "\n",
    "__(a)__ Generate $10 000$ samples from $Bin(10, 0.4)$ using __(i)__ the inversion method directly and __(ii)__ using the inversion method to draw corresponding Bernoulli distributed samples. __(iii)__ Plot the resulting empirical distribution functions and add the theoretical distribution function in one figure. "
   ]
  },
  {
   "cell_type": "code",
   "execution_count": 17,
   "metadata": {},
   "outputs": [
    {
     "data": {
      "image/png": "[encoded data removed]",
      "text/plain": [
       "<Figure size 1000x500 with 1 Axes>"
      ]
     },
     "metadata": {},
     "output_type": "display_data"
    }
   ],
   "source": [
    "from random import uniform\n",
    "from scipy.special import binom\n",
    "from numpy import sqrt, pi, exp, tan, cumsum\n",
    "from scipy.stats import probplot\n",
    "import pandas as pd\n",
    "import matplotlib.pyplot as plt\n",
    "\n",
    "trial_count = 10  \n",
    "success_chance = 0.4  \n",
    "\n",
    "def flip_binomial(trial_count, success_chance):\n",
    "    # adding up probabilities\n",
    "    probs_stack = [binom(trial_count, idx) * (success_chance ** idx) * ((1 - success_chance) ** (trial_count - idx)) for idx in range(trial_count + 1)]  # making probability list\n",
    "    probs_stack = cumsum(probs_stack) \n",
    "    # make a random number\n",
    "    rand_num = uniform(0, 1)  # get a random numbr\n",
    "\n",
    "    # check smallest idx where rand_num is smaller or same as stacked probability\n",
    "    for idx, prob in enumerate(probs_stack):\n",
    "        if rand_num <= prob:\n",
    "            return idx  \n",
    "    return trial_count  \n",
    "# function to make a bernoulli sample using flip method\n",
    "def flip_coin(success_chance):\n",
    "    return 1 if uniform(0, 1) < success_chance else 0  # give back 1 or 0 based on random\n",
    "\n",
    "# making 10000 samples with both ways\n",
    "binom_samples = [flip_binomial(trial_count, success_chance) for _ in range(10000)]  # binomail samples with flip method\n",
    "bernoulli_samples = [sum(flip_coin(success_chance) for _ in range(trial_count)) for _ in range(10000)]  # bernoulli sum sampels\n",
    "\n",
    "# making empirical distribution functions\n",
    "binom_data = pd.DataFrame(binom_samples, columns=['Outcome'])  # dataframe for binomial\n",
    "bernoulli_data = pd.DataFrame(bernoulli_samples, columns=['Outcome'])  # dataframe for bernoulli\n",
    "\n",
    "# drawing the empirical distribution functions\n",
    "plt.figure(figsize=(10, 5))  # set plot size\n",
    "\n",
    "# drawing for binomial samples made directly\n",
    "binom_data['Outcome'].value_counts(normalize=True).sort_index().cumsum().plot(drawstyle='steps-post', label='Binomial inversion')  # plot binomail data\n",
    "\n",
    "# drawing for binomial samples made using coin flips\n",
    "bernoulli_data['Outcome'].value_counts(normalize=True).sort_index().cumsum().plot(drawstyle='steps-post', label='bernoulli')  # plot bernoulli data\n",
    "\n",
    "# book theory for binomial distribution\n",
    "theory_probs = cumsum([binom(trial_count, idx) * (success_chance ** idx) * ((1 - success_chance) ** (trial_count - idx)) for idx in range(trial_count + 1)])  # calculate theory probs\n",
    "plt.plot(range(trial_count + 1), theory_probs, 'o-', label='Binomial ')  \n",
    "\n",
    "plt.title('Empirical and Theoretical Distribution Functions')  \n",
    "plt.xlabel('# of successes')  \n",
    "plt.ylabel('Cumulative Probability')  \n",
    "plt.legend() \n",
    "plt.grid(True)  \n",
    "plt.show() \n"
   ]
  },
  {
   "cell_type": "markdown",
   "metadata": {
    "tags": [
     "exercise"
    ]
   },
   "source": [
    "__(b)__ Generate $10000$ samples from the standard normal distribution using the accept-reject method with candidate density $g(x) = (\\pi(1+x^2))^{-1}$ with distribution funciton $G(x) = \\tan^{-1}(x)/\\pi$ from the standard Cauchy distribution. To this end, __(i)__ determine (mathematically or via simulation) the value of $c\\geq1$ closest to one so that $f(x)\\leq cg(x)$ for all $x$. __(ii)__ Obtain $10000$ standard normal random variables using the accept-reject method, generating Cauchy distributed random variables using inversion method. \n",
    "__(iii)__ Compare estimated and theoretical acceptance probabilities. \n",
    "__(iv)__ Generate a QQ-plot of the generated sample. "
   ]
  },
  {
   "cell_type": "code",
   "execution_count": 18,
   "metadata": {},
   "outputs": [
    {
     "data": {
      "image/png": "[encoded data removed]",
      "text/plain": [
       "<Figure size 1000x500 with 1 Axes>"
      ]
     },
     "metadata": {},
     "output_type": "display_data"
    }
   ],
   "source": [
    "from random import uniform\n",
    "from scipy.special import binom\n",
    "from numpy import sqrt, pi, exp, tan, cumsum\n",
    "from scipy.stats import probplot\n",
    "import pandas as pd\n",
    "import matplotlib.pyplot as plt\n",
    "\n",
    "def find_max_ratio():\n",
    "    highest = 0  # initialize highest value\n",
    "    for i in range(-10000, 10000):  \n",
    "        z = i / 1000  # scale z\n",
    "        # calculating normal pdf\n",
    "        normal_pdf = exp(-z**2 / 2) / sqrt(2 * pi) \n",
    "        # calculating cauchy pdf\n",
    "        cauchy_pdf = 1 / (pi * (1 + z**2))  \n",
    "        r = normal_pdf / cauchy_pdf  # find ratio\n",
    "        if r > highest:\n",
    "            highest = r  # update highest if current r is larger\n",
    "    return highest\n",
    "\n",
    "max_val = find_max_ratio()  # get max value\n",
    "\n",
    "def gen_norm_samples(max_val, num=10000):\n",
    "    samples = []  # list for samples\n",
    "    count = 0\n",
    "\n",
    "    while len(samples) < num:\n",
    "        u = uniform(0, 1)\n",
    "        z = tan(pi * (u - 0.5))  # generate cauchy variable\n",
    "        normal_pdf = exp(-z**2 / 2) / sqrt(2 * pi)\n",
    "        cauchy_pdf = 1 / (pi * (1 + z**2))\n",
    "        a_prob = normal_pdf / (max_val * cauchy_pdf)  \n",
    "\n",
    "        if uniform(0, 1) < a_prob:\n",
    "            samples.append(z)  # add sample\n",
    "        count += 1  \n",
    "    est_a_prob = len(samples) / count  \n",
    "    return samples, est_a_prob\n",
    "\n",
    "norm_samps, est_a_prob = gen_norm_samples(max_val)\n",
    "\n",
    "theor_a_prob = 1 / max_val  \n",
    "\n",
    "plt.figure(figsize=(10, 5))\n",
    "probplot(norm_samps, dist=\"norm\", plot=plt)  # qq-plot\n",
    "plt.title('qq-plot of generated samples standard normal distribution')\n",
    "plt.xlabel('theoretical quantiles')\n",
    "plt.ylabel('sample quantiles')\n",
    "plt.show()  \n"
   ]
  },
  {
   "cell_type": "markdown",
   "metadata": {
    "tags": [
     "exercise"
    ]
   },
   "source": [
    "__Exercise 3__\n",
    "\n",
    "The demographic makeup of regions can offer crucial insights into various socio-economic factors. For policymakers, understanding age distributions can be particularly useful, as it can provide direction for initiatives ranging from educational policy to elderly care. In this section, we will work with a dataset detailing the age distribution across United States counties, broken down into specific age bins.\n",
    "\n",
    "The files `county_age_dist.csv`, `fips_state.csv` and `fips_county.csv` contain information about the age distribution of counties in selected brackets as well as names and [FIPS](https://transition.fcc.gov/oet/info/maps/census/fips/fips.txt) codes and additional information. \n",
    "\n",
    "__(a, i)__ Merge all three data frames into one `pandas.DataFrame` object names `data` with appropriate column names. __(ii)__ Remove the `info` column. Standardize column names and entries to be capitalized according to spelling rules. Remove any preceding whitespace if present for any entries. Run: \n",
    "```\n",
    "data.head(4)\n",
    "```"
   ]
  },
  {
   "cell_type": "code",
   "execution_count": 19,
   "metadata": {},
   "outputs": [
    {
     "name": "stderr",
     "output_type": "stream",
     "text": [
      "/var/folders/lx/4_g1bf5951j3ls64g8b047yr0000gn/T/ipykernel_6831/2871471991.py:9: FutureWarning: In a future version of pandas all arguments of StringMethods.split except for the argument 'pat' will be keyword-only.\n",
      "  state[\"fips\"],state[\"state\"]=state['FIPS; STATE'].str.split(\";\",1).str\n",
      "/var/folders/lx/4_g1bf5951j3ls64g8b047yr0000gn/T/ipykernel_6831/2871471991.py:9: FutureWarning: Columnar iteration over characters will be deprecated in future releases.\n",
      "  state[\"fips\"],state[\"state\"]=state['FIPS; STATE'].str.split(\";\",1).str\n"
     ]
    },
    {
     "data": {
      "text/html": [
       "<div>\n",
       "<style scoped>\n",
       "    .dataframe tbody tr th:only-of-type {\n",
       "        vertical-align: middle;\n",
       "    }\n",
       "\n",
       "    .dataframe tbody tr th {\n",
       "        vertical-align: top;\n",
       "    }\n",
       "\n",
       "    .dataframe thead th {\n",
       "        text-align: right;\n",
       "    }\n",
       "</style>\n",
       "<table border=\"1\" class=\"dataframe\">\n",
       "  <thead>\n",
       "    <tr style=\"text-align: right;\">\n",
       "      <th></th>\n",
       "      <th>State</th>\n",
       "      <th>Fips</th>\n",
       "      <th>County Name</th>\n",
       "      <th>0-17</th>\n",
       "      <th>18-24</th>\n",
       "      <th>25-34</th>\n",
       "      <th>35-44</th>\n",
       "      <th>45-54</th>\n",
       "      <th>55-64</th>\n",
       "      <th>65-74</th>\n",
       "      <th>75-84</th>\n",
       "      <th>85+</th>\n",
       "    </tr>\n",
       "  </thead>\n",
       "  <tbody>\n",
       "    <tr>\n",
       "      <th>0</th>\n",
       "      <td>Alabama</td>\n",
       "      <td>1001</td>\n",
       "      <td>Autauga County</td>\n",
       "      <td>25941</td>\n",
       "      <td>11422</td>\n",
       "      <td>12315</td>\n",
       "      <td>13828</td>\n",
       "      <td>14000</td>\n",
       "      <td>12697</td>\n",
       "      <td>9594</td>\n",
       "      <td>5430</td>\n",
       "      <td>1945</td>\n",
       "    </tr>\n",
       "    <tr>\n",
       "      <th>1</th>\n",
       "      <td>Alabama</td>\n",
       "      <td>1003</td>\n",
       "      <td>Baldwin County</td>\n",
       "      <td>86587</td>\n",
       "      <td>37568</td>\n",
       "      <td>44133</td>\n",
       "      <td>46730</td>\n",
       "      <td>49675</td>\n",
       "      <td>52405</td>\n",
       "      <td>43252</td>\n",
       "      <td>23262</td>\n",
       "      <td>8854</td>\n",
       "    </tr>\n",
       "    <tr>\n",
       "      <th>2</th>\n",
       "      <td>Alabama</td>\n",
       "      <td>1005</td>\n",
       "      <td>Barbour County</td>\n",
       "      <td>11057</td>\n",
       "      <td>6162</td>\n",
       "      <td>6603</td>\n",
       "      <td>5907</td>\n",
       "      <td>6490</td>\n",
       "      <td>6377</td>\n",
       "      <td>5255</td>\n",
       "      <td>2795</td>\n",
       "      <td>1074</td>\n",
       "    </tr>\n",
       "    <tr>\n",
       "      <th>3</th>\n",
       "      <td>Alabama</td>\n",
       "      <td>1007</td>\n",
       "      <td>Bibb County</td>\n",
       "      <td>9671</td>\n",
       "      <td>5241</td>\n",
       "      <td>5788</td>\n",
       "      <td>5472</td>\n",
       "      <td>6707</td>\n",
       "      <td>5563</td>\n",
       "      <td>4270</td>\n",
       "      <td>2555</td>\n",
       "      <td>638</td>\n",
       "    </tr>\n",
       "  </tbody>\n",
       "</table>\n",
       "</div>"
      ],
      "text/plain": [
       "      State  Fips      County Name   0-17  18-24  25-34  35-44  45-54  55-64  \\\n",
       "0   Alabama  1001   Autauga County  25941  11422  12315  13828  14000  12697   \n",
       "1   Alabama  1003   Baldwin County  86587  37568  44133  46730  49675  52405   \n",
       "2   Alabama  1005   Barbour County  11057   6162   6603   5907   6490   6377   \n",
       "3   Alabama  1007      Bibb County   9671   5241   5788   5472   6707   5563   \n",
       "\n",
       "   65-74  75-84   85+  \n",
       "0   9594   5430  1945  \n",
       "1  43252  23262  8854  \n",
       "2   5255   2795  1074  \n",
       "3   4270   2555   638  "
      ]
     },
     "execution_count": 19,
     "metadata": {},
     "output_type": "execute_result"
    }
   ],
   "source": [
    "import pandas as pd\n",
    "state=pd.read_csv('fips_state.csv')\n",
    "county=pd.read_csv('fips_county.csv')\n",
    "age=pd.read_csv('county_age_dist.csv')\n",
    "#first we want to load in our datasets \n",
    "\n",
    "\n",
    "### MERGE FIRST TWO DATASETS ###\n",
    "state[\"fips\"],state[\"state\"]=state['FIPS; STATE'].str.split(\";\",1).str\n",
    "#split the combined column into two columns for state dataset\n",
    "state=state.drop(columns=['FIPS; STATE'])\n",
    "#drop the combined column\n",
    "county=county.drop(columns=\" info\")\n",
    "#drop uncessary \"info\" column\n",
    "merged_df = pd.merge(state, county, left_on=state['fips'].str[:2], right_on=county['fips'].str[:2])\n",
    "#merge the two datasets on the first two digits of the fips code\n",
    "merged_df=merged_df.drop(columns=['key_0'])\n",
    "#drop the new column\n",
    "merged_df=merged_df.drop(columns=\"fips_x\")\n",
    "#drop the fips_x column that was just for the states\n",
    "\n",
    "\n",
    "### MERGE FINAL DATSET ###\n",
    "merged_df['fips_y'] = merged_df['fips_y'].str.replace('\\D', '', regex=True)\n",
    "# remove all non-numeric characters from the fips_y column\n",
    "merged_df['fips_y'] = merged_df['fips_y'].astype(int)\n",
    "# convert the fips_y column to an integer so it can match the datatype in age dataset\n",
    "merged_df = merged_df.rename(columns={'fips_y': 'fips'})\n",
    "# rename the fips_y column to fips so we can merge it with the age dataset\n",
    "data=pd.merge(merged_df, age, on='fips')\n",
    "#finally we can merge the age dataset with the merged dataset based on fips\n",
    "\n",
    "### RENAMING AND CAPITALIZING ###\n",
    "data = data.rename(columns={'fips': 'Fips'})\n",
    "data = data.rename(columns={' name': 'County Name'})\n",
    "data = data.rename(columns={'state': 'State'})\n",
    "# we are just renaming the columns to match the capitlization rules in the assignment\n",
    "data['State'] = data['State'].str.title()\n",
    "# capitalize the state column\n",
    "\n",
    "data.head(4) \n"
   ]
  },
  {
   "cell_type": "markdown",
   "metadata": {
    "tags": [
     "exercise"
    ]
   },
   "source": [
    "__(b)__ For each county and state, compute the proportion of elderly `CPE` and `SPE` (65 and older) to the total population as well as the proportion of young people `CPY` and `SPY` (24 or younger). Add those values to the data frame. You may ignore all FIPS regions that are not in states. Run: \n",
    "```\n",
    "data.head(4)\n",
    "```"
   ]
  },
  {
   "cell_type": "code",
   "execution_count": 20,
   "metadata": {},
   "outputs": [
    {
     "data": {
      "text/html": [
       "<div>\n",
       "<style scoped>\n",
       "    .dataframe tbody tr th:only-of-type {\n",
       "        vertical-align: middle;\n",
       "    }\n",
       "\n",
       "    .dataframe tbody tr th {\n",
       "        vertical-align: top;\n",
       "    }\n",
       "\n",
       "    .dataframe thead th {\n",
       "        text-align: right;\n",
       "    }\n",
       "</style>\n",
       "<table border=\"1\" class=\"dataframe\">\n",
       "  <thead>\n",
       "    <tr style=\"text-align: right;\">\n",
       "      <th></th>\n",
       "      <th>State</th>\n",
       "      <th>Fips</th>\n",
       "      <th>County Name</th>\n",
       "      <th>0-17</th>\n",
       "      <th>18-24</th>\n",
       "      <th>25-34</th>\n",
       "      <th>35-44</th>\n",
       "      <th>45-54</th>\n",
       "      <th>55-64</th>\n",
       "      <th>65-74</th>\n",
       "      <th>75-84</th>\n",
       "      <th>85+</th>\n",
       "      <th>CPE</th>\n",
       "      <th>CPY</th>\n",
       "      <th>SPE</th>\n",
       "      <th>SPY</th>\n",
       "    </tr>\n",
       "  </thead>\n",
       "  <tbody>\n",
       "    <tr>\n",
       "      <th>0</th>\n",
       "      <td>Alabama</td>\n",
       "      <td>1001</td>\n",
       "      <td>Autauga County</td>\n",
       "      <td>25941</td>\n",
       "      <td>11422</td>\n",
       "      <td>12315</td>\n",
       "      <td>13828</td>\n",
       "      <td>14000</td>\n",
       "      <td>12697</td>\n",
       "      <td>9594</td>\n",
       "      <td>5430</td>\n",
       "      <td>1945</td>\n",
       "      <td>0.178890</td>\n",
       "      <td>0.393888</td>\n",
       "      <td>0.190766</td>\n",
       "      <td>0.389906</td>\n",
       "    </tr>\n",
       "    <tr>\n",
       "      <th>1</th>\n",
       "      <td>Alabama</td>\n",
       "      <td>1003</td>\n",
       "      <td>Baldwin County</td>\n",
       "      <td>86587</td>\n",
       "      <td>37568</td>\n",
       "      <td>44133</td>\n",
       "      <td>46730</td>\n",
       "      <td>49675</td>\n",
       "      <td>52405</td>\n",
       "      <td>43252</td>\n",
       "      <td>23262</td>\n",
       "      <td>8854</td>\n",
       "      <td>0.216368</td>\n",
       "      <td>0.356426</td>\n",
       "      <td>0.190766</td>\n",
       "      <td>0.389906</td>\n",
       "    </tr>\n",
       "    <tr>\n",
       "      <th>2</th>\n",
       "      <td>Alabama</td>\n",
       "      <td>1005</td>\n",
       "      <td>Barbour County</td>\n",
       "      <td>11057</td>\n",
       "      <td>6162</td>\n",
       "      <td>6603</td>\n",
       "      <td>5907</td>\n",
       "      <td>6490</td>\n",
       "      <td>6377</td>\n",
       "      <td>5255</td>\n",
       "      <td>2795</td>\n",
       "      <td>1074</td>\n",
       "      <td>0.202230</td>\n",
       "      <td>0.381652</td>\n",
       "      <td>0.190766</td>\n",
       "      <td>0.389906</td>\n",
       "    </tr>\n",
       "    <tr>\n",
       "      <th>3</th>\n",
       "      <td>Alabama</td>\n",
       "      <td>1007</td>\n",
       "      <td>Bibb County</td>\n",
       "      <td>9671</td>\n",
       "      <td>5241</td>\n",
       "      <td>5788</td>\n",
       "      <td>5472</td>\n",
       "      <td>6707</td>\n",
       "      <td>5563</td>\n",
       "      <td>4270</td>\n",
       "      <td>2555</td>\n",
       "      <td>638</td>\n",
       "      <td>0.186031</td>\n",
       "      <td>0.371713</td>\n",
       "      <td>0.190766</td>\n",
       "      <td>0.389906</td>\n",
       "    </tr>\n",
       "  </tbody>\n",
       "</table>\n",
       "</div>"
      ],
      "text/plain": [
       "      State  Fips      County Name   0-17  18-24  25-34  35-44  45-54  55-64  \\\n",
       "0   Alabama  1001   Autauga County  25941  11422  12315  13828  14000  12697   \n",
       "1   Alabama  1003   Baldwin County  86587  37568  44133  46730  49675  52405   \n",
       "2   Alabama  1005   Barbour County  11057   6162   6603   5907   6490   6377   \n",
       "3   Alabama  1007      Bibb County   9671   5241   5788   5472   6707   5563   \n",
       "\n",
       "   65-74  75-84   85+       CPE       CPY       SPE       SPY  \n",
       "0   9594   5430  1945  0.178890  0.393888  0.190766  0.389906  \n",
       "1  43252  23262  8854  0.216368  0.356426  0.190766  0.389906  \n",
       "2   5255   2795  1074  0.202230  0.381652  0.190766  0.389906  \n",
       "3   4270   2555   638  0.186031  0.371713  0.190766  0.389906  "
      ]
     },
     "execution_count": 20,
     "metadata": {},
     "output_type": "execute_result"
    }
   ],
   "source": [
    "grouped_data_c = data.groupby(['State', 'County Name']).sum(numeric_only=True)\n",
    "grouped_data_c['Total Population'] = grouped_data_c['0-17'] + grouped_data_c['18-24'] + grouped_data_c['35-44']+ grouped_data_c['45-54'] + grouped_data_c['55-64'] + grouped_data_c['65-74'] + grouped_data_c['75-84'] + grouped_data_c['85+']\n",
    "grouped_data_c['CPY'] = (grouped_data_c['0-17'] + grouped_data_c['18-24']) / grouped_data_c['Total Population']\n",
    "grouped_data_c['CPE'] = (grouped_data_c['65-74'] + grouped_data_c['75-84'] \n",
    "                         + grouped_data_c['85+']) / grouped_data_c['Total Population']\n",
    "data = pd.merge(data, grouped_data_c[['CPE', 'CPY']], left_on=['State', 'County Name'], right_index=True)\n",
    "\n",
    "grouped_data_s = data.groupby('State').sum(numeric_only=True)\n",
    "grouped_data_s['Total Population'] = grouped_data_s['0-17'] + grouped_data_s['18-24'] + grouped_data_s['35-44']+ grouped_data_s['45-54'] + grouped_data_s['55-64'] + grouped_data_s['65-74'] + grouped_data_s['75-84'] + grouped_data_s['85+']\n",
    "grouped_data_s['SPY'] = (grouped_data_s['0-17'] + grouped_data_s['18-24']) / grouped_data_s['Total Population']\n",
    "grouped_data_s['SPE'] = (grouped_data_s['65-74'] + grouped_data_s['75-84'] \n",
    "                         + grouped_data_s['85+']) / grouped_data_s['Total Population']\n",
    "data = pd.merge(data, grouped_data_s[['SPE', 'SPY']], left_on='State', right_index=True)\n",
    "\n",
    "data.head(4)"
   ]
  }
 ],
 "metadata": {
  "celltoolbar": "Tags",
  "kernelspec": {
   "display_name": "Python 3 (ipykernel)",
   "language": "python",
   "name": "python3"
  },
  "language_info": {
   "codemirror_mode": {
    "name": "ipython",
    "version": 3
   },
   "file_extension": ".py",
   "mimetype": "text/x-python",
   "name": "python",
   "nbconvert_exporter": "python",
   "pygments_lexer": "ipython3",
   "version": "3.10.5"
  }
 },
 "nbformat": 4,
 "nbformat_minor": 2
}
